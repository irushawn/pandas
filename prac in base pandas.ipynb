{
 "cells": [
  {
   "cell_type": "markdown",
   "metadata": {},
   "source": [
    "### Data Manipulation in Python"
   ]
  },
  {
   "cell_type": "markdown",
   "metadata": {},
   "source": [
    "#### Lists"
   ]
  },
  {
   "cell_type": "code",
   "execution_count": 1,
   "metadata": {},
   "outputs": [
    {
     "data": {
      "text/plain": [
       "\"Hooray for aaron. You're a data scientist and you're 30!\""
      ]
     },
     "execution_count": 1,
     "metadata": {},
     "output_type": "execute_result"
    }
   ],
   "source": [
    "def cheers(person='aaron', job='data scientist', age=30):\n",
    "    return f'Hooray for {person}. You\\'re a {job} and you\\'re {age}!'\n",
    "cheers()"
   ]
  },
  {
   "cell_type": "code",
   "execution_count": 6,
   "metadata": {},
   "outputs": [
    {
     "data": {
      "text/plain": [
       "\"Hooray for greg. You're a scientist and you're 130!\""
      ]
     },
     "execution_count": 6,
     "metadata": {},
     "output_type": "execute_result"
    }
   ],
   "source": [
    "def cheers(person, job, age=30):\n",
    "    return f'Hooray for {person}. You\\'re a {job} and you\\'re {age}!'\n",
    "cheers('greg', 'scientist', 130)"
   ]
  },
  {
   "cell_type": "code",
   "execution_count": 33,
   "metadata": {},
   "outputs": [
    {
     "data": {
      "text/plain": [
       "4"
      ]
     },
     "execution_count": 33,
     "metadata": {},
     "output_type": "execute_result"
    }
   ],
   "source": [
    "primes = [2, 3, 5, 7, 11, 13, 17, 19]\n",
    "#primes.remove(3)\n",
    "primes.index(11)"
   ]
  },
  {
   "cell_type": "code",
   "execution_count": 34,
   "metadata": {},
   "outputs": [
    {
     "data": {
      "text/plain": [
       "[4, 6, 10, 14, 22, 26, 34, 38]"
      ]
     },
     "execution_count": 34,
     "metadata": {},
     "output_type": "execute_result"
    }
   ],
   "source": [
    "prime_doubles = [x*2 for x in primes]\n",
    "prime_doubles"
   ]
  },
  {
   "cell_type": "code",
   "execution_count": 37,
   "metadata": {},
   "outputs": [
    {
     "data": {
      "text/plain": [
       "[6, 9, 15, 21, 33, 39, 51, 57]"
      ]
     },
     "execution_count": 37,
     "metadata": {},
     "output_type": "execute_result"
    }
   ],
   "source": [
    "prime_triples = [x*3 for x in primes]\n",
    "prime_triples"
   ]
  },
  {
   "cell_type": "code",
   "execution_count": 38,
   "metadata": {},
   "outputs": [
    {
     "data": {
      "text/plain": [
       "[4, 6, 10, 14, 22, 26, 34, 38]"
      ]
     },
     "execution_count": 38,
     "metadata": {},
     "output_type": "execute_result"
    }
   ],
   "source": [
    "prime_doubles2 = []\n",
    "for x in primes:\n",
    "    prime_doubles2.append(x*2)\n",
    "prime_doubles2"
   ]
  },
  {
   "cell_type": "code",
   "execution_count": 42,
   "metadata": {},
   "outputs": [
    {
     "data": {
      "text/plain": [
       "[['Alan', 'Turing'],\n",
       " ['Charles', 'Babbage'],\n",
       " ['Ada', 'Lovelace'],\n",
       " ['Anita', 'Borg'],\n",
       " ['Steve', 'Wozniak'],\n",
       " ['Andrew', 'Ng']]"
      ]
     },
     "execution_count": 42,
     "metadata": {},
     "output_type": "execute_result"
    }
   ],
   "source": [
    "names = ('Alan Turing', 'Charles Babbage', 'Ada Lovelace',\n",
    "        'Anita Borg', 'Steve Wozniak', 'Andrew Ng')\n",
    "\n",
    "splits = [x.split() for x in names]\n",
    "splits"
   ]
  },
  {
   "cell_type": "code",
   "execution_count": 46,
   "metadata": {},
   "outputs": [
    {
     "data": {
      "text/plain": [
       "[['Alan', 'Turing'],\n",
       " ['Charles', 'Babbage'],\n",
       " ['Ada', 'Lovelace'],\n",
       " ['Anita', 'Borg'],\n",
       " ['Steve', 'Wozniak'],\n",
       " ['Andrew', 'Ng']]"
      ]
     },
     "execution_count": 46,
     "metadata": {},
     "output_type": "execute_result"
    }
   ],
   "source": [
    "splits2=[]\n",
    "for x in names:\n",
    "    splits2.append(x.split())\n",
    "splits2\n",
    "\n",
    "\n"
   ]
  },
  {
   "cell_type": "code",
   "execution_count": 43,
   "metadata": {},
   "outputs": [
    {
     "data": {
      "text/plain": [
       "['A. T.', 'C. B.', 'A. L.', 'A. B.', 'S. W.', 'A. N.']"
      ]
     },
     "execution_count": 43,
     "metadata": {},
     "output_type": "execute_result"
    }
   ],
   "source": [
    "[name1[0]+'. '+name2[0]+'.' for (name1, name2) in splits]"
   ]
  },
  {
   "cell_type": "code",
   "execution_count": 48,
   "metadata": {},
   "outputs": [
    {
     "data": {
      "text/plain": [
       "['A.T', 'C.B', 'A.L', 'A.B', 'S.W', 'A.N']"
      ]
     },
     "execution_count": 48,
     "metadata": {},
     "output_type": "execute_result"
    }
   ],
   "source": [
    "initials =[]\n",
    "for name1, name2 in splits:\n",
    "    initials.append(name1[0]+\".\" + name2[0])\n",
    "initials"
   ]
  },
  {
   "cell_type": "markdown",
   "metadata": {},
   "source": [
    "### Assignment \n"
   ]
  },
  {
   "cell_type": "code",
   "execution_count": null,
   "metadata": {},
   "outputs": [],
   "source": [
    "# Assignment 1.\n",
    "# 1. Use a list comprehension to extract the odd numbers from this set: nums = set(range(1000))\n",
    "\n",
    "nums = set(range(1000))\n"
   ]
  },
  {
   "cell_type": "code",
   "execution_count": 117,
   "metadata": {},
   "outputs": [],
   "source": [
    "odd= [x for x in nums if x % 2 ==1]\n"
   ]
  },
  {
   "cell_type": "code",
   "execution_count": 99,
   "metadata": {},
   "outputs": [],
   "source": [
    "odd1 =[]\n",
    "for x in nums:\n",
    "    if x % 2 ==1:\n",
    "     odd1.append(x)\n"
   ]
  },
  {
   "cell_type": "code",
   "execution_count": null,
   "metadata": {},
   "outputs": [],
   "source": [
    "# 2. Use a list comprehension to take the first character of each string from the following list of words.\n",
    "\n",
    "words = ['carbon', 'osmium', 'mercury', 'potassium', 'rhenium', 'einsteinium',\n",
    "        'hydrogen', 'erbium', 'nitrogen', 'sulfur', 'iodine', 'oxygen', 'niobium']\n"
   ]
  },
  {
   "cell_type": "code",
   "execution_count": 106,
   "metadata": {},
   "outputs": [
    {
     "data": {
      "text/plain": [
       "['c', 'o', 'm', 'p', 'r', 'e', 'h', 'e', 'n', 's', 'i', 'o', 'n']"
      ]
     },
     "execution_count": 106,
     "metadata": {},
     "output_type": "execute_result"
    }
   ],
   "source": [
    "first_character = [character[0] for character in words]\n",
    "first_character"
   ]
  },
  {
   "cell_type": "code",
   "execution_count": null,
   "metadata": {},
   "outputs": [],
   "source": [
    "# to return words starting with letter o\n",
    "first_character = [character for character in words if character[0]==\"o\"]\n",
    "first_character"
   ]
  },
  {
   "cell_type": "code",
   "execution_count": 119,
   "metadata": {},
   "outputs": [],
   "source": [
    "# 3. Use a list comprehension to build a list of all the names that start with 'R' from the following list. Add a '?' to the end of each name.\n",
    "\n",
    "names = ['Randy', 'Robert', 'Alex', 'Ranjit', 'Charlie', 'Richard', 'Ravdeep',\n",
    "        'Vimal', 'Wu', 'Nelson']"
   ]
  },
  {
   "cell_type": "code",
   "execution_count": 113,
   "metadata": {},
   "outputs": [
    {
     "data": {
      "text/plain": [
       "['Randy', 'Robert', 'Ranjit', 'Richard', 'Ravdeep']"
      ]
     },
     "execution_count": 113,
     "metadata": {},
     "output_type": "execute_result"
    }
   ],
   "source": [
    "R = [name for name in names if name[0]==\"R\"]\n",
    "R"
   ]
  },
  {
   "cell_type": "code",
   "execution_count": 158,
   "metadata": {},
   "outputs": [
    {
     "data": {
      "text/plain": [
       "{'model1': 0.858, 'model2': 0.873, 'model3': 0.868}"
      ]
     },
     "execution_count": 158,
     "metadata": {},
     "output_type": "execute_result"
    }
   ],
   "source": [
    "scores = [.858, .873, .868]\n",
    "{'model' + str(j+1): scores[j] for j in range(3)}"
   ]
  },
  {
   "cell_type": "markdown",
   "metadata": {},
   "source": [
    "#### Dictionaries\n"
   ]
  },
  {
   "cell_type": "code",
   "execution_count": 123,
   "metadata": {},
   "outputs": [],
   "source": [
    "my_dict = {'who': 'flatiron school', 'what': 'data science',\n",
    "           'when': 'now', 'where': 'here', 'why': '$',\n",
    "           'how': 'python'}\n"
   ]
  },
  {
   "cell_type": "code",
   "execution_count": 124,
   "metadata": {},
   "outputs": [
    {
     "data": {
      "text/plain": [
       "dict_items([('who', 'flatiron school'), ('what', 'data science'), ('when', 'now'), ('where', 'here'), ('why', '$'), ('how', 'python')])"
      ]
     },
     "execution_count": 124,
     "metadata": {},
     "output_type": "execute_result"
    }
   ],
   "source": [
    "my_dict.items()"
   ]
  },
  {
   "cell_type": "code",
   "execution_count": 129,
   "metadata": {},
   "outputs": [
    {
     "data": {
      "text/plain": [
       "{'who': 'flatiron school!',\n",
       " 'what': 'data science!',\n",
       " 'when': 'now!',\n",
       " 'where': 'here!',\n",
       " 'why': '$!'}"
      ]
     },
     "execution_count": 129,
     "metadata": {},
     "output_type": "execute_result"
    }
   ],
   "source": [
    "{k : v + '!' for k, v in my_dict.items() if k.startswith('w')}"
   ]
  },
  {
   "cell_type": "code",
   "execution_count": 130,
   "metadata": {},
   "outputs": [
    {
     "data": {
      "text/plain": [
       "{0: 1, 4: 9, 16: 25}"
      ]
     },
     "execution_count": 130,
     "metadata": {},
     "output_type": "execute_result"
    }
   ],
   "source": [
    "{k**2: v**2 for k, v in [(0, 1), (2, 3), (4, 5)]}"
   ]
  },
  {
   "cell_type": "code",
   "execution_count": 156,
   "metadata": {},
   "outputs": [
    {
     "data": {
      "text/plain": [
       "{0: 'apple', 1: 'orange', 2: 'banana', 3: 'lime', 4: 'blueberry'}"
      ]
     },
     "execution_count": 156,
     "metadata": {},
     "output_type": "execute_result"
    }
   ],
   "source": [
    "# Zip Function\n",
    "dict(zip(range(5), ['apple', 'orange', 'banana', 'lime', 'blueberry']))"
   ]
  },
  {
   "cell_type": "code",
   "execution_count": 146,
   "metadata": {},
   "outputs": [
    {
     "data": {
      "text/plain": [
       "((1, 'a', 'b', 'c', 'd', 'e'),\n",
       " (2, 'a', 'b', 'c', 'd', 'e'),\n",
       " (3, 'a', 'b', 'c', 'd', 'e'),\n",
       " (4, 'a', 'b', 'c', 'd', 'e'))"
      ]
     },
     "execution_count": 146,
     "metadata": {},
     "output_type": "execute_result"
    }
   ],
   "source": [
    "# Zipping multiple iterables together\n",
    "tuple(zip(range(1, 5), 'a'*4, 'b'*4, 'c'*4, 'd'*4, 'e'*4))"
   ]
  },
  {
   "cell_type": "code",
   "execution_count": 147,
   "metadata": {},
   "outputs": [
    {
     "data": {
      "text/plain": [
       "{0: 0, 1: 2, 2: 4, 3: 6, 4: 8}"
      ]
     },
     "execution_count": 147,
     "metadata": {},
     "output_type": "execute_result"
    }
   ],
   "source": [
    "{k: v for k, v in zip(range(5), range(0, 10, 2))}"
   ]
  },
  {
   "cell_type": "code",
   "execution_count": 154,
   "metadata": {},
   "outputs": [
    {
     "name": "stdout",
     "output_type": "stream",
     "text": [
      "range(0, 10, 2)\n"
     ]
    }
   ],
   "source": [
    "print(range(0,10,2))"
   ]
  },
  {
   "cell_type": "markdown",
   "metadata": {},
   "source": [
    "### Exercise"
   ]
  },
  {
   "cell_type": "code",
   "execution_count": 162,
   "metadata": {},
   "outputs": [
    {
     "data": {
      "text/plain": [
       "{'USA': 'Washington',\n",
       " 'France': 'Paris',\n",
       " 'Canada': 'Ottawa',\n",
       " 'Thailand': 'Bangkok'}"
      ]
     },
     "execution_count": 162,
     "metadata": {},
     "output_type": "execute_result"
    }
   ],
   "source": [
    "# 1. Use a dictionary comprehension to pair up the countries in the first list with their corresponding capitals in the second list:\n",
    "list1 = ['USA', 'France', 'Canada', 'Thailand']\n",
    "list2 = ['Washington', 'Paris', 'Ottawa', 'Bangkok']\n",
    "\n",
    "# method 1\n",
    "dict(zip(list1, list2))"
   ]
  },
  {
   "cell_type": "code",
   "execution_count": 163,
   "metadata": {},
   "outputs": [
    {
     "data": {
      "text/plain": [
       "{'USA': 'Washington',\n",
       " 'France': 'Paris',\n",
       " 'Canada': 'Ottawa',\n",
       " 'Thailand': 'Bangkok'}"
      ]
     },
     "execution_count": 163,
     "metadata": {},
     "output_type": "execute_result"
    }
   ],
   "source": [
    "# method 2\n",
    "{country: capital for (country, capital) in zip(list1, list2)}"
   ]
  },
  {
   "cell_type": "code",
   "execution_count": 169,
   "metadata": {},
   "outputs": [
    {
     "data": {
      "text/plain": [
       "{'Pinocchio': 'fictional character',\n",
       " 'Gilgamesh': 'fictional character',\n",
       " 'Kumar Patel': 'fictional character',\n",
       " 'Toby Flenderson': 'fictional character'}"
      ]
     },
     "execution_count": 169,
     "metadata": {},
     "output_type": "execute_result"
    }
   ],
   "source": [
    "# 2. Use a dictionary comprehension to make each of the characters in the following list a key with the value 'fictional character'.\n",
    "chars = ['Pinocchio', 'Gilgamesh', 'Kumar Patel', 'Toby Flenderson']\n",
    "\n",
    "{char: 'fictional character' for char in chars}\n",
    "\n"
   ]
  },
  {
   "cell_type": "markdown",
   "metadata": {},
   "source": [
    "### Nesting"
   ]
  },
  {
   "cell_type": "code",
   "execution_count": 170,
   "metadata": {},
   "outputs": [],
   "source": [
    "lists = [['morning', 'afternoon', 'night'], ['read', 'code', 'sleep']]"
   ]
  },
  {
   "cell_type": "code",
   "execution_count": 173,
   "metadata": {},
   "outputs": [
    {
     "data": {
      "text/plain": [
       "[['m', 'a', 'n'], ['r', 'c', 's']]"
      ]
     },
     "execution_count": 173,
     "metadata": {},
     "output_type": "execute_result"
    }
   ],
   "source": [
    "[[item[0] for item in small_list] for small_list in lists]"
   ]
  },
  {
   "cell_type": "markdown",
   "metadata": {},
   "source": [
    "### Nested Structures\n",
    "It will be well worth your while to practice accessing data in complex structures. Consider the following:"
   ]
  },
  {
   "cell_type": "markdown",
   "metadata": {},
   "source": [
    "#### Q: How would we access 'I Am a Bunny'?\n",
    "#### A: The outermost \"layer\" has a name: 'customers', and that object is a dictionary: customers\n",
    "#### The key we are interested in is 'pat', since that's where 'I Am a Bunny' is located: customers['pat']\n",
    "#### The value corresponding to the key 'pat' is also a dictionary, and in this \"lower-down\" dictionary, the key we are interested in is 'purchases': customers['pat']['purchases']\n",
    "#### The value corresponding to the key 'purchases' is yet another dictionary, and here the key of interest is books: customers['pat']['purchases']['books']\n",
    "#### The value corresponding to the key 'books' is a list, and 'I Am a Bunny' is the second element in that list: customers['pat']['purchases']['books'][1]"
   ]
  },
  {
   "cell_type": "code",
   "execution_count": 176,
   "metadata": {},
   "outputs": [],
   "source": [
    "customers = {\n",
    "    'bill': {'purchases': {'movies': ['Terminator', 'Elf'],\n",
    "                     'books': []}, 'id': 1},\n",
    "            'dolph': {'purchases': {'movies': ['It Happened One Night'],\n",
    "                     'books': ['The Far Side Gallery']}, 'id': 2},\n",
    "            'pat': {'purchases': {'movies': [],\n",
    "                   'books': ['Seinfeld and Philosophy', 'I Am a Bunny']},\n",
    "                   'id': 3}\n",
    "}"
   ]
  },
  {
   "cell_type": "code",
   "execution_count": 200,
   "metadata": {},
   "outputs": [
    {
     "data": {
      "text/plain": [
       "dict_items([('bill', {'purchases': {'movies': ['Terminator', 'Elf'], 'books': []}, 'id': 1}), ('dolph', {'purchases': {'movies': ['It Happened One Night'], 'books': ['The Far Side Gallery']}, 'id': 2}), ('pat', {'purchases': {'movies': [], 'books': ['Seinfeld and Philosophy', 'I Am a Bunny']}, 'id': 3})])"
      ]
     },
     "execution_count": 200,
     "metadata": {},
     "output_type": "execute_result"
    }
   ],
   "source": [
    "customers.items()"
   ]
  },
  {
   "cell_type": "code",
   "execution_count": 179,
   "metadata": {},
   "outputs": [
    {
     "data": {
      "text/plain": [
       "'I Am a Bunny'"
      ]
     },
     "execution_count": 179,
     "metadata": {},
     "output_type": "execute_result"
    }
   ],
   "source": [
    "# Here is how to access I am a Bunny form the above steps\n",
    "\n",
    "customers['pat']['purchases']['books'][1]"
   ]
  },
  {
   "cell_type": "markdown",
   "metadata": {},
   "source": [
    "### Exercise"
   ]
  },
  {
   "cell_type": "code",
   "execution_count": 181,
   "metadata": {},
   "outputs": [],
   "source": [
    "# 1. From the list below, make a list of dictionaries where the key is the person's name and the value is the person's home phone number.\n",
    "\n",
    "phone_nos = [{'name': 'greg', 'nums': {'home': 1234567, 'work': 7654321}},\n",
    "          {'name': 'max', 'nums': {'home': 9876543, 'work': 1010001}},\n",
    "            {'name': 'erin', 'nums': {'home': 3333333, 'work': 4444444}},\n",
    "            {'name': 'joél', 'nums': {'home': 2222222, 'work': 5555555}},\n",
    "            {'name': 'sean', 'nums': {'home': 9999999, 'work': 8888888}}]\n",
    " "
   ]
  },
  {
   "cell_type": "code",
   "execution_count": 183,
   "metadata": {},
   "outputs": [
    {
     "data": {
      "text/plain": [
       "[{'greg': 1234567},\n",
       " {'max': 9876543},\n",
       " {'erin': 3333333},\n",
       " {'joél': 2222222},\n",
       " {'sean': 9999999}]"
      ]
     },
     "execution_count": 183,
     "metadata": {},
     "output_type": "execute_result"
    }
   ],
   "source": [
    " [{item['name']: item['nums']['home']} for item in phone_nos]"
   ]
  },
  {
   "cell_type": "code",
   "execution_count": 198,
   "metadata": {},
   "outputs": [
    {
     "data": {
      "text/plain": [
       "{'bill': ['Terminator', 'Elf'], 'dolph': ['It Happened One Night'], 'pat': []}"
      ]
     },
     "execution_count": 198,
     "metadata": {},
     "output_type": "execute_result"
    }
   ],
   "source": [
    "# 2. From the customers dictionary above, build a dictionary where the customers' names are the keys and the movies they've bought are the values.\n",
    "\n",
    "{k: v['purchases']['movies'] for k, v in customers.items()}"
   ]
  },
  {
   "cell_type": "markdown",
   "metadata": {},
   "source": [
    "### More excercise"
   ]
  },
  {
   "cell_type": "code",
   "execution_count": 204,
   "metadata": {},
   "outputs": [
    {
     "data": {
      "text/plain": [
       "8"
      ]
     },
     "execution_count": 204,
     "metadata": {},
     "output_type": "execute_result"
    }
   ],
   "source": [
    "# 1. Build a function that will return 2^n for an input n\n",
    "\n",
    "def expo(n):\n",
    "    return 2**n\n",
    "expo(3)"
   ]
  },
  {
   "cell_type": "code",
   "execution_count": null,
   "metadata": {},
   "outputs": [
    {
     "data": {
      "text/plain": [
       "7.5"
      ]
     },
     "execution_count": 223,
     "metadata": {},
     "output_type": "execute_result"
    }
   ],
   "source": [
    "# 2. Build a function that returns the median of a list of numbers.\n",
    "\n",
    "def median(list):\n",
    "    b=sorted(list)\n",
    "    a=len(list)\n",
    "    if a%2==0:\n",
    "        return (b[(a//2)] + b[(a//2)-1])/2\n",
    "    else:\n",
    "        return b[(a//2)]\n",
    "median([4,5,11,7,8,9])\n",
    "    \n",
    "    \n",
    "\n",
    "\n"
   ]
  },
  {
   "cell_type": "code",
   "execution_count": 225,
   "metadata": {},
   "outputs": [
    {
     "data": {
      "text/plain": [
       "[11]"
      ]
     },
     "execution_count": 225,
     "metadata": {},
     "output_type": "execute_result"
    }
   ],
   "source": [
    "# Above question now for mode\n",
    "\n",
    "def mode (list):\n",
    "    frequency={}\n",
    "    for item in list:\n",
    "        if item not in frequency:\n",
    "            frequency[item] = 1\n",
    "        else:\n",
    "            frequency[item] += 1\n",
    "    highest_freq = max(frequency.values())\n",
    "    modelist=[]\n",
    "    for item, freq in frequency.items():\n",
    "        if freq == highest_freq:\n",
    "            modelist.append(item)\n",
    "    return modelist\n",
    "mode([4,5,11,11, 45,7,8,9])\n",
    "\n",
    "\n",
    "\n",
    "\n",
    "\n"
   ]
  },
  {
   "cell_type": "code",
   "execution_count": null,
   "metadata": {},
   "outputs": [],
   "source": []
  },
  {
   "cell_type": "code",
   "execution_count": null,
   "metadata": {},
   "outputs": [],
   "source": []
  }
 ],
 "metadata": {
  "kernelspec": {
   "display_name": "learn-env",
   "language": "python",
   "name": "python3"
  },
  "language_info": {
   "codemirror_mode": {
    "name": "ipython",
    "version": 3
   },
   "file_extension": ".py",
   "mimetype": "text/x-python",
   "name": "python",
   "nbconvert_exporter": "python",
   "pygments_lexer": "ipython3",
   "version": "3.8.5"
  }
 },
 "nbformat": 4,
 "nbformat_minor": 2
}
